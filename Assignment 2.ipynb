{
 "cells": [
  {
   "cell_type": "code",
   "execution_count": 28,
   "id": "be9c9eee",
   "metadata": {},
   "outputs": [
    {
     "name": "stdout",
     "output_type": "stream",
     "text": [
      "Python:Exercises::PHP:exercises:\n"
     ]
    }
   ],
   "source": [
    "import re\n",
    "text = 'Python Exercises, PHP exercises.'\n",
    "print(re.sub(\"[ ,.]\", \":\", text))"
   ]
  },
  {
   "cell_type": "code",
   "execution_count": 8,
   "id": "529fca69",
   "metadata": {},
   "outputs": [],
   "source": [
    "import re\n",
    "\n",
    "def find_long_words(s):\n",
    "    pattern = re.compile(r'\\b\\w{4,}\\b')"
   ]
  },
  {
   "cell_type": "code",
   "execution_count": 9,
   "id": "eb64e6a3",
   "metadata": {},
   "outputs": [],
   "source": [
    "import re\n",
    "\n",
    "def find_words(s):\n",
    "    pattern = re.compile(r'\\b\\w{3,5}\\b')\n",
    "    return pattern.findall(s)"
   ]
  },
  {
   "cell_type": "code",
   "execution_count": 32,
   "id": "41741d23",
   "metadata": {},
   "outputs": [
    {
     "name": "stdout",
     "output_type": "stream",
     "text": [
      "['Importance', 'Of', 'Regular', 'Expressions', 'In', 'Python']\n"
     ]
    }
   ],
   "source": [
    "import re\n",
    "\n",
    "text = \"ImportanceOfRegularExpressionsInPython\"\n",
    "result = re.findall('[A-Z][^A-Z]*', text)\n",
    "print(result)"
   ]
  },
  {
   "cell_type": "code",
   "execution_count": 37,
   "id": "b7a082a4",
   "metadata": {},
   "outputs": [
    {
     "name": "stdout",
     "output_type": "stream",
     "text": [
      "RegularExpression 1IsAn 2ImportantTopic 3InPython\n"
     ]
    }
   ],
   "source": [
    "import re\n",
    "\n",
    "def insert_spaces_before_numbers(input_string):\n",
    "    return re.sub(r'(\\d)', r' \\1', input_string)\n",
    "\n",
    "sample_text = \"RegularExpression1IsAn2ImportantTopic3InPython\"\n",
    "output = insert_spaces_before_numbers(sample_text)\n",
    "print(output)"
   ]
  },
  {
   "cell_type": "code",
   "execution_count": 34,
   "id": "adc189e8",
   "metadata": {},
   "outputs": [
    {
     "name": "stdout",
     "output_type": "stream",
     "text": [
      "RegularExpression 1 IsAn 2 ImportantTopic 3 InPython\n"
     ]
    }
   ],
   "source": [
    "import re\n",
    "\n",
    "def insert_spaces_between_number_words(input_string):\n",
    "    return re.sub(r'(\\d)([A-Za-z])', r'\\1 \\2', re.sub(r'([A-Za-z])(\\d)', r'\\1 \\2', input_string))\n",
    "\n",
    "sample_text = \"RegularExpression1IsAn2ImportantTopic3InPython\"\n",
    "output = insert_spaces_between_number_words(sample_text)\n",
    "print(output)"
   ]
  },
  {
   "cell_type": "code",
   "execution_count": 40,
   "id": "38992a45",
   "metadata": {},
   "outputs": [
    {
     "name": "stdout",
     "output_type": "stream",
     "text": [
      "Not matched!\n",
      "Found a match!\n"
     ]
    }
   ],
   "source": [
    "import re\n",
    "\n",
    "def match_string(input_string):\n",
    "    pattern = '^[a-zA-Z0-9_]*$'\n",
    "    if re.match(pattern, input_string):\n",
    "        return 'Found a match!'\n",
    "    else:\n",
    "        return 'Not matched!'\n",
    "\n",
    "print(match_string(\"The quick brown fox jumps over the lazy dog.\"))\n",
    "print(match_string(\"Python_Exercises_1\"))"
   ]
  },
  {
   "cell_type": "code",
   "execution_count": 41,
   "id": "339bb89d",
   "metadata": {},
   "outputs": [
    {
     "name": "stdout",
     "output_type": "stream",
     "text": [
      "The string starts with the number.\n",
      "The string does not start with the number.\n"
     ]
    }
   ],
   "source": [
    "def starts_with_number(input_string, number):\n",
    "    if input_string.startswith(str(number)):\n",
    "        return 'The string starts with the number.'\n",
    "    else:\n",
    "        return 'The string does not start with the number.'\n",
    "\n",
    "print(starts_with_number('123abc', 1))\n",
    "print(starts_with_number('abc123', 1))"
   ]
  },
  {
   "cell_type": "code",
   "execution_count": 42,
   "id": "c2771914",
   "metadata": {},
   "outputs": [
    {
     "name": "stdout",
     "output_type": "stream",
     "text": [
      "192.168.1.10\n",
      "10.0.0.1\n"
     ]
    }
   ],
   "source": [
    "def remove_leading_zeros(ip_address):\n",
    "    ip_parts = ip_address.split('.')\n",
    "    ip_parts = [str(int(part)) for part in ip_parts]\n",
    "    return '.'.join(ip_parts)\n",
    "\n",
    "print(remove_leading_zeros('192.168.001.010'))\n",
    "print(remove_leading_zeros('010.000.000.001'))"
   ]
  },
  {
   "cell_type": "code",
   "execution_count": 48,
   "id": "3c2bb2dd",
   "metadata": {},
   "outputs": [
    {
     "name": "stdout",
     "output_type": "stream",
     "text": [
      "Found \"fox\" in the sample text.\n",
      "Found \"dog\" in the sample text.\n",
      "Could not find \"horse\" in the sample text.\n"
     ]
    }
   ],
   "source": [
    "import re\n",
    "\n",
    "sample_text = 'The quick brown fox jumps over the lazy dog.'\n",
    "searched_words = ['fox', 'dog', 'horse']\n",
    "\n",
    "for word in searched_words:\n",
    "    if re.search(word, sample_text):\n",
    "        print(f'Found \"{word}\" in the sample text.')\n",
    "    else:\n",
    "        print(f'Could not find \"{word}\" in the sample text.')"
   ]
  },
  {
   "cell_type": "code",
   "execution_count": 49,
   "id": "1797f8ba",
   "metadata": {},
   "outputs": [
    {
     "name": "stdout",
     "output_type": "stream",
     "text": [
      "Found \"fox\" in \"The quick brown fox jumps over the lazy dog.\" from 16 to 19\n"
     ]
    }
   ],
   "source": [
    "import re\n",
    "\n",
    "sample_text = 'The quick brown fox jumps over the lazy dog.'\n",
    "pattern = 'fox'\n",
    "\n",
    "match = re.search(pattern, sample_text)\n",
    "if match:\n",
    "    s = match.start()\n",
    "    e = match.end()\n",
    "    print(f'Found \"{pattern}\" in \"{sample_text}\" from {s} to {e}')\n",
    "else:\n",
    "    print(f'Could not find \"{pattern}\" in the sample text.')"
   ]
  },
  {
   "cell_type": "code",
   "execution_count": 50,
   "id": "38eff42c",
   "metadata": {},
   "outputs": [
    {
     "name": "stdout",
     "output_type": "stream",
     "text": [
      "Found \"exercises\"\n",
      "Found \"exercises\"\n",
      "Found \"exercises\"\n"
     ]
    }
   ],
   "source": [
    "import re\n",
    "\n",
    "sample_text = 'Python exercises, PHP exercises, C# exercises'\n",
    "pattern = 'exercises'\n",
    "\n",
    "for match in re.findall(pattern, sample_text):\n",
    "    print('Found \"%s\"' % match)"
   ]
  },
  {
   "cell_type": "code",
   "execution_count": 51,
   "id": "b7b71e75",
   "metadata": {},
   "outputs": [
    {
     "name": "stdout",
     "output_type": "stream",
     "text": [
      "Found \"exercises\" at position 7\n",
      "Found \"exercises\" at position 22\n",
      "Found \"exercises\" at position 36\n"
     ]
    }
   ],
   "source": [
    "import re\n",
    "\n",
    "sample_text = 'Python exercises, PHP exercises, C# exercises'\n",
    "pattern = 'exercises'\n",
    "\n",
    "matches = re.finditer(pattern, sample_text)\n",
    "\n",
    "for match in matches:\n",
    "    print('Found \"%s\" at position %s' % (match.group(), match.start()))"
   ]
  },
  {
   "cell_type": "code",
   "execution_count": 52,
   "id": "3d33332b",
   "metadata": {},
   "outputs": [
    {
     "name": "stdout",
     "output_type": "stream",
     "text": [
      "Original date in YYYY-MM-DD Format:  2023-07-25\n",
      "New date in DD-MM-YYYY Format:  25-07-2023\n"
     ]
    }
   ],
   "source": [
    "def convert_date_format(dt):\n",
    "    return dt[8:10] + '-' + dt[5:7] + '-' + dt[0:4]\n",
    "\n",
    "dt1 = \"2023-07-25\"\n",
    "print(\"Original date in YYYY-MM-DD Format: \", dt1)\n",
    "print(\"New date in DD-MM-YYYY Format: \", convert_date_format(dt1))"
   ]
  },
  {
   "cell_type": "code",
   "execution_count": 53,
   "id": "84162c56",
   "metadata": {},
   "outputs": [
    {
     "name": "stdout",
     "output_type": "stream",
     "text": [
      "['01.12', '0132.12', '2.31', '145.8', '3.01', '27.25', '0.25']\n"
     ]
    }
   ],
   "source": [
    "import re\n",
    "\n",
    "def find_decimals(s):\n",
    "    pattern = re.compile(r'\\d+\\.\\d{1,2}')\n",
    "    return pattern.findall(s)\n",
    "\n",
    "sample_text = \"01.12 0132.123 2.31875 145.8 3.01 27.25 0.25\"\n",
    "print(find_decimals(sample_text))\n"
   ]
  },
  {
   "cell_type": "code",
   "execution_count": 54,
   "id": "632bc9fd",
   "metadata": {},
   "outputs": [
    {
     "name": "stdout",
     "output_type": "stream",
     "text": [
      "Found number 2 at position 10\n",
      "Found number 4 at position 23\n"
     ]
    }
   ],
   "source": [
    "import re\n",
    "\n",
    "sample_text = \"There are 2 apples for 4 persons\"\n",
    "\n",
    "for match in re.finditer(r'\\d+', sample_text):\n",
    "    print(f'Found number {match.group()} at position {match.start()}')"
   ]
  },
  {
   "cell_type": "code",
   "execution_count": 56,
   "id": "42a2a5a1",
   "metadata": {},
   "outputs": [
    {
     "name": "stdout",
     "output_type": "stream",
     "text": [
      "950\n"
     ]
    }
   ],
   "source": [
    "import re\n",
    "\n",
    "sample_text = 'My marks in each semester are: 947, 896, 926, 524, 734, 950, 642'\n",
    "\n",
    "def extract_max_numeric_value(s):\n",
    "    numbers = re.findall('\\d+', s)\n",
    "    return max(int(num) for num in numbers)\n",
    "\n",
    "print(extract_max_numeric_value(sample_text))"
   ]
  },
  {
   "cell_type": "code",
   "execution_count": 57,
   "id": "bc787c29",
   "metadata": {},
   "outputs": [
    {
     "name": "stdout",
     "output_type": "stream",
     "text": [
      "Regular Expression Is An Important Topic In Python\n"
     ]
    }
   ],
   "source": [
    "import re\n",
    "\n",
    "def insert_spaces_between_capitalized_words(s):\n",
    "    words = re.findall('[A-Z][^A-Z]*', s)\n",
    "    return ' '.join(words)\n",
    "\n",
    "sample_text = \"RegularExpressionIsAnImportantTopicInPython\"\n",
    "print(insert_spaces_between_capitalized_words(sample_text))"
   ]
  },
  {
   "cell_type": "code",
   "execution_count": 58,
   "id": "25612e13",
   "metadata": {},
   "outputs": [
    {
     "name": "stdout",
     "output_type": "stream",
     "text": [
      "['This', 'Is', 'A', 'Sample', 'Text', 'With', 'Some', 'Capitalized', 'Words']\n"
     ]
    }
   ],
   "source": [
    "import re\n",
    "\n",
    "sample_text = \"ThisIsASampleTextWithSomeCapitalizedWords\"\n",
    "\n",
    "def find_capitalized_words(s):\n",
    "    matches = re.findall('[A-Z][a-z]*', s)\n",
    "    return matches\n",
    "\n",
    "print(find_capitalized_words(sample_text))"
   ]
  },
  {
   "cell_type": "code",
   "execution_count": 59,
   "id": "43c648fa",
   "metadata": {},
   "outputs": [
    {
     "name": "stdout",
     "output_type": "stream",
     "text": [
      "Hello hello world\n"
     ]
    }
   ],
   "source": [
    "import re\n",
    "\n",
    "def remove_continuous_duplicate_words(sentence):\n",
    "    return re.sub(r'\\b(\\w+)(?:\\s+\\1\\b)+', r'\\1', sentence)\n",
    "\n",
    "sentence = \"Hello hello world world\"\n",
    "print(remove_continuous_duplicate_words(sentence))"
   ]
  },
  {
   "cell_type": "code",
   "execution_count": 60,
   "id": "be21b09c",
   "metadata": {},
   "outputs": [
    {
     "name": "stdout",
     "output_type": "stream",
     "text": [
      "The string \"Hello123\" ends with an alphanumeric character.\n",
      "The string \"Hello#12\" ends with an alphanumeric character.\n",
      "The string \"Hello!\" does not end with an alphanumeric character.\n"
     ]
    }
   ],
   "source": [
    "import re\n",
    "\n",
    "def accept_string_ending_with_alphanumeric(s):\n",
    "    pattern = r'[a-zA-Z0-9]$'\n",
    "    if re.search(pattern, s):\n",
    "        print(f'The string \"{s}\" ends with an alphanumeric character.')\n",
    "    else:\n",
    "        print(f'The string \"{s}\" does not end with an alphanumeric character.')\n",
    "\n",
    "s1 = 'Hello123'\n",
    "s2 = 'Hello#12'\n",
    "s3 = 'Hello!'\n",
    "\n",
    "accept_string_ending_with_alphanumeric(s1)\n",
    "accept_string_ending_with_alphanumeric(s2)\n",
    "accept_string_ending_with_alphanumeric(s3)"
   ]
  },
  {
   "cell_type": "code",
   "execution_count": 61,
   "id": "6a56580c",
   "metadata": {},
   "outputs": [
    {
     "name": "stdout",
     "output_type": "stream",
     "text": [
      "['#Doltiwal', '#xyzabc', '#Demonetization']\n"
     ]
    }
   ],
   "source": [
    "import re\n",
    "\n",
    "def extract_hashtags(text):\n",
    "    pattern = r'#\\w+'\n",
    "    return re.findall(pattern, text)\n",
    "\n",
    "text = \"\"\"RT @kapil_kausik: #Doltiwal I mean #xyzabc is \"hurt\" by #Demonetization as the same\n",
    "has rendered USELESS <ed><U+00A0><U+00BD><ed><U+00B1><U+0089> \"acquired funds\" No wo\"\"\"\n",
    "\n",
    "hashtags = extract_hashtags(text)\n",
    "print(hashtags)"
   ]
  },
  {
   "cell_type": "code",
   "execution_count": 62,
   "id": "d1cbc05e",
   "metadata": {},
   "outputs": [
    {
     "name": "stdout",
     "output_type": "stream",
     "text": [
      "@Jags123456 Bharat band on 28??<ed><ed>Those who are protesting #demonetization are all different party leaders\n"
     ]
    }
   ],
   "source": [
    "import re\n",
    "\n",
    "sample_text = \"@Jags123456 Bharat band on 28??<ed><U+00A0><U+00BD><ed><U+00B8><U+0082>Those who are protesting #demonetization are all different party leaders\"\n",
    "\n",
    "pattern = r'<U\\+[0-9A-Fa-f]{4}>'\n",
    "\n",
    "clean_text = re.sub(pattern, '', sample_text)\n",
    "\n",
    "print(clean_text)"
   ]
  },
  {
   "cell_type": "code",
   "execution_count": 66,
   "id": "f5df6175",
   "metadata": {},
   "outputs": [
    {
     "name": "stdout",
     "output_type": "stream",
     "text": [
      " following example creates  ArrayList  a capacity   elements. 4 elements   added   ArrayList   ArrayList  trimmed accordingly.\n"
     ]
    }
   ],
   "source": [
    "import re\n",
    "\n",
    "def remove_words(text):\n",
    "    pattern = re.compile(r'\\b\\w{2,4}\\b')\n",
    "\n",
    "    clean_text = pattern.sub('', text)\n",
    "\n",
    "    return clean_text\n",
    "\n",
    "sample_text = \"The following example creates an ArrayList with a capacity of 50 elements. 4 elements are then added to the ArrayList and the ArrayList is trimmed accordingly.\"\n",
    "print(remove_words(sample_text))"
   ]
  },
  {
   "cell_type": "code",
   "execution_count": null,
   "id": "8b28454b",
   "metadata": {},
   "outputs": [],
   "source": []
  }
 ],
 "metadata": {
  "kernelspec": {
   "display_name": "Python 3 (ipykernel)",
   "language": "python",
   "name": "python3"
  },
  "language_info": {
   "codemirror_mode": {
    "name": "ipython",
    "version": 3
   },
   "file_extension": ".py",
   "mimetype": "text/x-python",
   "name": "python",
   "nbconvert_exporter": "python",
   "pygments_lexer": "ipython3",
   "version": "3.9.7"
  }
 },
 "nbformat": 4,
 "nbformat_minor": 5
}
